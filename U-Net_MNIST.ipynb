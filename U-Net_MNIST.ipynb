{
 "cells": [
  {
   "cell_type": "code",
   "execution_count": 2,
   "id": "35787630-2223-464b-bbc9-bd1cf6f2ef25",
   "metadata": {},
   "outputs": [],
   "source": [
    "from tensorflow.keras.utils import plot_model\n",
    "import numpy as np\n",
    "from matplotlib import pyplot as plt\n",
    "from tensorflow.keras.layers import Input, Add, Dense, Activation, ZeroPadding2D, BatchNormalization,\\\n",
    "     Flatten, Conv2D, MaxPooling2D, UpSampling2D\n",
    "from tensorflow.keras import layers\n",
    "from tensorflow.keras.initializers import glorot_uniform\n",
    "from tensorflow import keras\n",
    "from tensorflow.keras.models import Model\n",
    "from tensorflow.keras.datasets import mnist\n",
    "import tensorflow as tf\n",
    "from tensorflow.python.framework.ops import disable_eager_execution\n",
    "disable_eager_execution()"
   ]
  },
  {
   "cell_type": "code",
   "execution_count": 3,
   "id": "49f83d84",
   "metadata": {},
   "outputs": [],
   "source": [
    "import warnings\n",
    "warnings.filterwarnings('ignore')"
   ]
  },
  {
   "cell_type": "code",
   "execution_count": 4,
   "id": "6af4df94",
   "metadata": {},
   "outputs": [],
   "source": [
    "(train_images, train_labels), (test_images, test_labels) = mnist.load_data()\n"
   ]
  },
  {
   "cell_type": "code",
   "execution_count": 5,
   "id": "0c4130d8",
   "metadata": {},
   "outputs": [],
   "source": [
    "train_images = train_images/255.0\n",
    "test_images = test_images/255.0"
   ]
  },
  {
   "cell_type": "code",
   "execution_count": 6,
   "id": "81857741",
   "metadata": {},
   "outputs": [],
   "source": [
    "w, h = 28, 28\n",
    "train_images = train_images.reshape(train_images.shape[0], w, h, 1)\n",
    "test_images = test_images.reshape(test_images.shape[0], w, h, 1)"
   ]
  },
  {
   "cell_type": "code",
   "execution_count": 7,
   "id": "04bff7fe",
   "metadata": {},
   "outputs": [
    {
     "data": {
      "text/plain": [
       "(60000, 28, 28, 1)"
      ]
     },
     "execution_count": 7,
     "metadata": {},
     "output_type": "execute_result"
    }
   ],
   "source": [
    "train_images.shape"
   ]
  },
  {
   "cell_type": "code",
   "execution_count": 8,
   "id": "74f22a7a",
   "metadata": {},
   "outputs": [
    {
     "name": "stdout",
     "output_type": "stream",
     "text": [
      "Default GPU Device:/device:GPU:0\n"
     ]
    }
   ],
   "source": [
    "if tf.test.gpu_device_name(): \n",
    "\n",
    "    print('Default GPU Device:{}'.format(tf.test.gpu_device_name()))\n",
    "\n",
    "else:\n",
    "    print(\"Please install GPU version of TF\")"
   ]
  },
  {
   "cell_type": "code",
   "execution_count": 9,
   "id": "b8935258",
   "metadata": {},
   "outputs": [],
   "source": [
    "classess = ['0', '1', '2', '3', '4', '5', '6', '7', '8', '9']"
   ]
  },
  {
   "cell_type": "code",
   "execution_count": 10,
   "id": "2d7f70f7",
   "metadata": {},
   "outputs": [],
   "source": [
    "def DWSamp2D(X):\n",
    "    X = Conv2D(16, 2, activation = 'relu', padding = 'same', kernel_initializer = glorot_uniform(seed = 0))(X)\n",
    "    X = Conv2D(16, 2, activation='relu', padding='same')(X)\n",
    "    X = MaxPooling2D(pool_size=(2, 2))(X)\n",
    "    X = Conv2D(32, 2, activation='relu', padding='same')(X)\n",
    "    X = Conv2D(32, 2, activation='relu', padding='same')(X)\n",
    "    X = MaxPooling2D(pool_size=(2, 2))(X)\n",
    "#     X = Conv2D(64, 3, activation='relu', padding='same')(X)\n",
    "#     X = Conv2D(64, 3, activation='relu', padding='same')(X)\n",
    "#     X = Conv2D(64, 3, activation='relu', padding='same')(X)\n",
    "#     X = MaxPooling2D(pool_size=(2, 2))(X)\n",
    "#     X = Conv2D(128, 3, activation='relu', padding='same')(X)\n",
    "#     X = Conv2D(128, 3, activation='relu', padding='same')(X)\n",
    "#     X = Conv2D(128, 3, activation='relu', padding='same')(X)\n",
    "#     X = MaxPooling2D(pool_size=(1, 1))(X)\n",
    "#     X = Conv2D(128, 3, activation='relu', padding='same')(X)\n",
    "#     X = Conv2D(128, 3, activation='relu', padding='same')(X)\n",
    "#     X = Conv2D(128, 3, activation='relu', padding='same')(X)\n",
    "#     X = MaxPooling2D(pool_size=(1, 1))(X)\n",
    "    return X"
   ]
  },
  {
   "cell_type": "code",
   "execution_count": 11,
   "id": "a041a52c",
   "metadata": {},
   "outputs": [],
   "source": [
    "def UpSamp2D(X):\n",
    "#     X = UpSampling2D(size=(1, 1))(X)\n",
    "#     X = Conv2D(128, 3, activation='relu', padding='same')(X)\n",
    "#     X = Conv2D(128, 3, activation='relu', padding='same')(X)\n",
    "#     X = Conv2D(128, 3, activation='relu', padding='same')(X)   \n",
    "#     X = UpSampling2D(size=(1, 1))(X)\n",
    "#     X = Conv2D(128, 3, activation='relu', padding='same')(X)\n",
    "#     X = Conv2D(128, 3, activation='relu', padding='same')(X)\n",
    "#     X = Conv2D(128, 3, activation='relu', padding='same')(X)   \n",
    "#     X = UpSampling2D(size=(2, 2))(X)\n",
    "#     X = Conv2D(64, 3, activation='relu', padding='same')(X)\n",
    "#     X = Conv2D(64, 3, activation='relu', padding='same')(X)\n",
    "#     X = Conv2D(64, 3, activation='relu', padding='same')(X)   \n",
    "    X = UpSampling2D(size=(2, 2))(X)\n",
    "    X = Conv2D(32, 2, activation='relu', padding='same')(X)\n",
    "    X = Conv2D(32, 2, activation='relu', padding='same')(X)\n",
    "    X = UpSampling2D(size=(2, 2))(X)\n",
    "    X = Conv2D(16, 2, activation='relu', padding='same')(X)\n",
    "    X = Conv2D(16, 2, activation='relu', padding='same')(X)\n",
    "    X = Flatten()(X)\n",
    "    X = Dense(len(classess), activation='softmax')(X)\n",
    "    return X"
   ]
  },
  {
   "cell_type": "code",
   "execution_count": 12,
   "id": "4fccd0e9",
   "metadata": {},
   "outputs": [],
   "source": [
    "def UNET(input_shape = (w, h, 1), classes = classess):\n",
    "    X_input = Input(shape = input_shape)\n",
    "    X = DWSamp2D(X_input)\n",
    "    X = UpSamp2D(X)\n",
    "    model = Model(inputs = X_input, outputs = X, name = 'U-net')\n",
    "    return model"
   ]
  },
  {
   "cell_type": "code",
   "execution_count": 13,
   "id": "e99b66e6",
   "metadata": {},
   "outputs": [],
   "source": [
    "#Clear unnecessary memory\n",
    "from tensorflow.keras import backend as K\n",
    "import tensorflow as tf\n",
    "K.clear_session()"
   ]
  },
  {
   "cell_type": "code",
   "execution_count": 14,
   "id": "2a78b2c8",
   "metadata": {},
   "outputs": [
    {
     "name": "stdout",
     "output_type": "stream",
     "text": [
      "Model: \"U-net\"\n",
      "_________________________________________________________________\n",
      " Layer (type)                Output Shape              Param #   \n",
      "=================================================================\n",
      " input_1 (InputLayer)        [(None, 28, 28, 1)]       0         \n",
      "                                                                 \n",
      " conv2d (Conv2D)             (None, 28, 28, 16)        80        \n",
      "                                                                 \n",
      " conv2d_1 (Conv2D)           (None, 28, 28, 16)        1040      \n",
      "                                                                 \n",
      " max_pooling2d (MaxPooling2D  (None, 14, 14, 16)       0         \n",
      " )                                                               \n",
      "                                                                 \n",
      " conv2d_2 (Conv2D)           (None, 14, 14, 32)        2080      \n",
      "                                                                 \n",
      " conv2d_3 (Conv2D)           (None, 14, 14, 32)        4128      \n",
      "                                                                 \n",
      " max_pooling2d_1 (MaxPooling  (None, 7, 7, 32)         0         \n",
      " 2D)                                                             \n",
      "                                                                 \n",
      " up_sampling2d (UpSampling2D  (None, 14, 14, 32)       0         \n",
      " )                                                               \n",
      "                                                                 \n",
      " conv2d_4 (Conv2D)           (None, 14, 14, 32)        4128      \n",
      "                                                                 \n",
      " conv2d_5 (Conv2D)           (None, 14, 14, 32)        4128      \n",
      "                                                                 \n",
      " up_sampling2d_1 (UpSampling  (None, 28, 28, 32)       0         \n",
      " 2D)                                                             \n",
      "                                                                 \n",
      " conv2d_6 (Conv2D)           (None, 28, 28, 16)        2064      \n",
      "                                                                 \n",
      " conv2d_7 (Conv2D)           (None, 28, 28, 16)        1040      \n",
      "                                                                 \n",
      " flatten (Flatten)           (None, 12544)             0         \n",
      "                                                                 \n",
      " dense (Dense)               (None, 10)                125450    \n",
      "                                                                 \n",
      "=================================================================\n",
      "Total params: 144,138\n",
      "Trainable params: 144,138\n",
      "Non-trainable params: 0\n",
      "_________________________________________________________________\n"
     ]
    }
   ],
   "source": [
    "model = UNET(input_shape = (w, h, 1), classes = classess)\n",
    "model.summary()"
   ]
  },
  {
   "cell_type": "code",
   "execution_count": 15,
   "id": "6a436d92",
   "metadata": {},
   "outputs": [],
   "source": [
    "import os\n",
    "import datetime\n",
    "\n",
    "logdir = os.path.join(\"logs\", datetime.datetime.now().strftime(\"%Y%m%d-%H%M%S\"))\n",
    "tensorboard_callback = tf.keras.callbacks.TensorBoard(logdir, histogram_freq=1)"
   ]
  },
  {
   "cell_type": "code",
   "execution_count": 16,
   "id": "eaf489db",
   "metadata": {},
   "outputs": [],
   "source": [
    "# Compile the model\n",
    "model.compile(optimizer='adam',\n",
    "              loss= 'sparse_categorical_crossentropy',\n",
    "              metrics=['accuracy'])"
   ]
  },
  {
   "cell_type": "code",
   "execution_count": null,
   "id": "45ebc787",
   "metadata": {},
   "outputs": [
    {
     "name": "stdout",
     "output_type": "stream",
     "text": [
      "Train on 51000 samples, validate on 9000 samples\n",
      "Epoch 1/10\n"
     ]
    }
   ],
   "source": [
    "history = model.fit(train_images, \n",
    "                    train_labels,\n",
    "                    batch_size = 1024,\n",
    "                    validation_split=0.15,\n",
    "                    epochs = 10,\n",
    "                    callbacks= [tensorboard_callback])"
   ]
  },
  {
   "cell_type": "code",
   "execution_count": null,
   "id": "80ed47b3",
   "metadata": {},
   "outputs": [],
   "source": [
    "# Loss\n",
    "plt.figure(figsize = (9, 6))\n",
    "plt.plot(history.history['loss'])\n",
    "# plt.plot(history.history['val_loss'])\n",
    "plt.title('FNO model loss', fontsize = 15)\n",
    "plt.ylabel('loss', fontsize = 15)\n",
    "plt.xlabel('epoch', fontsize = 15)\n",
    "plt.legend(['train', 'validation'], loc='upper right')\n",
    "plt.show()"
   ]
  },
  {
   "cell_type": "code",
   "execution_count": null,
   "id": "1619fbed",
   "metadata": {},
   "outputs": [],
   "source": [
    "# Accuracy\n",
    "plt.figure(figsize = (9, 6))\n",
    "plt.plot(history.history['accuracy'])\n",
    "# plt.plot(history.history['val_accuracy'])\n",
    "plt.title('FNO model train accuracy', fontsize = 15)\n",
    "plt.xlabel('epoch', fontsize = 15)\n",
    "plt.ylabel('accuracy', fontsize = 15)\n",
    "plt.legend(['train accuracy', 'test accuracy'], loc = 'upper right')\n",
    "plt.show()"
   ]
  },
  {
   "cell_type": "code",
   "execution_count": null,
   "id": "b7b11c4e",
   "metadata": {},
   "outputs": [],
   "source": [
    "# Evaluating the model using the test set\n",
    "loss, accuracy = model.evaluate(test_images, test_labels, verbose = 1)\n",
    "print('\\nTest accuracy:', accuracy)"
   ]
  },
  {
   "cell_type": "code",
   "execution_count": null,
   "id": "4f1dc2a9",
   "metadata": {},
   "outputs": [],
   "source": [
    "predictions = model.predict(test_images)"
   ]
  },
  {
   "cell_type": "code",
   "execution_count": null,
   "id": "7484ef53",
   "metadata": {},
   "outputs": [],
   "source": [
    "train_images = train_images.reshape(train_images.shape[0], w, h, 1)\n",
    "test_images = test_images.reshape(test_images.shape[0], w, h, 1)\n",
    "\n",
    "\n",
    "# Cifar's label need to reshape to scalar array\n",
    "test_labels = test_labels.reshape(10000, )\n",
    "\n",
    "\n",
    "\n",
    "# Helper functions to plot images \n",
    "def plot_image(i, predictions_array, true_label, img):\n",
    "  predictions_array, true_label, img = predictions_array, true_label[i], img[i]\n",
    "  plt.grid(False)\n",
    "  plt.xticks([])\n",
    "  plt.yticks([])\n",
    "\n",
    "  plt.imshow(img, cmap=plt.cm.binary)\n",
    "\n",
    "  predicted_label = np.argmax(predictions_array)\n",
    "  if predicted_label == true_label:\n",
    "    color = 'blue'\n",
    "  else:\n",
    "    color = 'red'\n",
    "\n",
    "  plt.xlabel(\"{} {:2.0f}% ({})\".format(classess[predicted_label],\n",
    "                                100*np.max(predictions_array),\n",
    "                                classess[true_label]),\n",
    "                                color=color)\n",
    "\n",
    "def plot_value_array(i, predictions_array, true_label):\n",
    "  predictions_array, true_label = predictions_array, true_label[i]\n",
    "  plt.grid(False)\n",
    "  plt.xticks(range(10))\n",
    "  plt.yticks([])\n",
    "  thisplot = plt.bar(range(10), predictions_array, color=\"#777777\")\n",
    "  plt.ylim([0, 1])\n",
    "  predicted_label = np.argmax(predictions_array)\n",
    "\n",
    "  thisplot[predicted_label].set_color('red')\n",
    "  thisplot[true_label].set_color('blue')"
   ]
  },
  {
   "cell_type": "code",
   "execution_count": null,
   "id": "88265776",
   "metadata": {},
   "outputs": [],
   "source": [
    "# Plot the first X test images, their predicted labels, and the true labels.\n",
    "# Color correct predictions in blue and incorrect predictions in red.\n",
    "num_rows = 5\n",
    "num_cols = 3\n",
    "num_images = num_rows*num_cols\n",
    "plt.figure(figsize=(2*2*num_cols, 2*num_rows))\n",
    "for i in range(num_images):\n",
    "  plt.subplot(num_rows, 2*num_cols, 2*i+1)\n",
    "  plot_image(i, predictions[i], test_labels, test_images)\n",
    "  plt.subplot(num_rows, 2*num_cols, 2*i+2)\n",
    "  plot_value_array(i, predictions[i], test_labels)\n",
    "plt.tight_layout()\n",
    "plt.show()"
   ]
  },
  {
   "cell_type": "code",
   "execution_count": null,
   "id": "32d45153",
   "metadata": {},
   "outputs": [],
   "source": []
  }
 ],
 "metadata": {
  "kernelspec": {
   "display_name": "Python 3 (ipykernel)",
   "language": "python",
   "name": "python3"
  },
  "language_info": {
   "codemirror_mode": {
    "name": "ipython",
    "version": 3
   },
   "file_extension": ".py",
   "mimetype": "text/x-python",
   "name": "python",
   "nbconvert_exporter": "python",
   "pygments_lexer": "ipython3",
   "version": "3.9.15"
  },
  "vscode": {
   "interpreter": {
    "hash": "7789ff83f194acf566cc5f743b97f52059d095d5da8c0625de7b48fea8fb60ab"
   }
  }
 },
 "nbformat": 4,
 "nbformat_minor": 5
}
